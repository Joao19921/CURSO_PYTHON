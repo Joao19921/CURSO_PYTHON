{
  "nbformat": 4,
  "nbformat_minor": 0,
  "metadata": {
    "colab": {
      "provenance": [],
      "authorship_tag": "ABX9TyMss+9lD/WthjjM4geond9Z",
      "include_colab_link": true
    },
    "kernelspec": {
      "name": "python3",
      "display_name": "Python 3"
    },
    "language_info": {
      "name": "python"
    }
  },
  "cells": [
    {
      "cell_type": "markdown",
      "metadata": {
        "id": "view-in-github",
        "colab_type": "text"
      },
      "source": [
        "<a href=\"https://colab.research.google.com/github/Joao19921/CURSO_PYTHON/blob/main/Tuplas_py.ipynb\" target=\"_parent\"><img src=\"https://colab.research.google.com/assets/colab-badge.svg\" alt=\"Open In Colab\"/></a>"
      ]
    },
    {
      "cell_type": "code",
      "source": [
        "'''As Tuplas são Imutáveis'''\n",
        "\n",
        "lanche = ('Hambúguer', 'Suco', 'Pizza', 'Pudim', 'Batata frita')\n",
        "\n",
        "'''print(lanche[1])\n",
        "print(lanche[3])\n",
        "print(lanche[-1])\n",
        "print(lanche[:3])\n",
        "print(lanche[1:3])\n",
        "print(lanche[2:])\n",
        "print(lanche[-2:])\n",
        "print(lanche)'''\n",
        "\n",
        "'''for c in lanche:\n",
        "  print(f'Quero um {c}')\n",
        "print('Será que vou aguentar comer tudo isso...')'''\n",
        "\n",
        "for cont in range(0, len(lanche)):\n",
        "  print(f'Quero um {lanche[cont]} na posição {cont}')\n",
        "\n",
        "'''for pos, comida in enumerate(lanche):\n",
        "\n",
        "  print(f'Quero um {comida} na posição {pos}')'''\n",
        "\n",
        "'''print(lanche)\n",
        "print(sorted(lanche))''' # colocar em ordem\n",
        "\n",
        "\n",
        "''' a = (2, 5, 4)\n",
        "b = (5, 8, 1, 2)\n",
        "c = a + b # mostra do A para o B\n",
        "print(c)\n",
        "c = b + a # mostra do B para o A\n",
        "print(c)\n",
        "print(len(c)) # tamanho da Tupla\n",
        "print(c.count(5)) # quantas vezes o número apareceu na Tupla\n",
        "print(c.index(8)) # busca a posição do número digitado\n",
        "print(c.index(5, 1)) # busca a posição do número a partir de uma posição - DESLOCAMENTO'''\n",
        "\n",
        "''' pessoa = ('Gustavo', 39, 'M', 99.88)\n",
        "del(pessoa) # Apagando a Tupla > pessoa\n",
        "print(pessoa) '''\n"
      ],
      "metadata": {
        "id": "LXt5Wf7xPRwk",
        "colab": {
          "base_uri": "https://localhost:8080/",
          "height": 122
        },
        "outputId": "7b9becba-9162-43c8-a50d-120ecb00c52e"
      },
      "execution_count": null,
      "outputs": [
        {
          "output_type": "stream",
          "name": "stdout",
          "text": [
            "Quero um Hambúguer na posição 0\n",
            "Quero um Suco na posição 1\n",
            "Quero um Pizza na posição 2\n",
            "Quero um Pudim na posição 3\n",
            "Quero um Batata frita na posição 4\n"
          ]
        },
        {
          "output_type": "execute_result",
          "data": {
            "text/plain": [
              "\" pessoa = ('Gustavo', 39, 'M', 99.88)\\ndel(pessoa) # Apagando a Tupla > pessoa\\nprint(pessoa) \""
            ],
            "application/vnd.google.colaboratory.intrinsic+json": {
              "type": "string"
            }
          },
          "metadata": {},
          "execution_count": 4
        }
      ]
    },
    {
      "cell_type": "markdown",
      "source": [
        "Exercício 72 – Número por Extenso"
      ],
      "metadata": {
        "id": "L-NLPojYtMBG"
      }
    },
    {
      "cell_type": "code",
      "source": [
        "'''Exercício Python 72: Crie um programa que tenha uma dupla totalmente\n",
        "preenchida com uma contagem por extenso, de zero até vinte.\n",
        "Seu programa deverá ler um número pelo teclado (entre 0 e 20) e mostrá-lo por extenso.'''\n",
        "\n",
        "numeros_por_extenso = ('zero','um','dois','tres','quatro','cinco',\n",
        "'seis','sete','oito','nove','dez','onze','doze','treze','quatorze',\n",
        "'quinze','dezesseis','dezessete','dezoito','dezenove','vinte')\n",
        "print(len(numeros_por_extenso))#Tamanho da Tupla\n",
        "print('\\n')\n",
        "\n",
        "'''\n",
        "numero = int(input('Digite um numero entre 0 e 20: '))\n",
        "stop = True\n",
        "while stop == True:\n",
        "  if numero < 21 and numero >= 0:\n",
        "    for c in range(0, len(numeros_por_extenso)):\n",
        "      if numero == c:\n",
        "        print(numeros_por_extenso[c])\n",
        "        stop = False\n",
        "  else:\n",
        "    print('Tente novamente.', end='')\n",
        "    numero = int(input('Digite um numero entre 0 e 20: '))\n",
        "'''\n",
        "\n",
        "while True:\n",
        "  numero = int(input(\"Digite um número entre 0 e 20: \"))\n",
        "  if 0 <= numero <= 20:\n",
        "    break\n",
        "  print(\"Tente novamente. \", end=\"\")\n",
        "print(f\"Você digitou o número: {numeros_por_extenso[numero]}\")\n"
      ],
      "metadata": {
        "id": "c0btfl_8tNYV"
      },
      "execution_count": null,
      "outputs": []
    },
    {
      "cell_type": "markdown",
      "source": [
        "Exercício 73 – Tuplas com Times de Futebol"
      ],
      "metadata": {
        "id": "PPQlG5pX4NJ5"
      }
    },
    {
      "cell_type": "code",
      "source": [
        "''''\n",
        "Exercício Python 73: Crie uma tupla preenchida com os 20 primeiros colocados da Tabela do Campeonato Brasileiro de Futebol, na ordem de colocação. Depois mostre:\n",
        "\n",
        "a) Os 5 primeiros times.\n",
        "\n",
        "b) Os últimos 4 colocados.\n",
        "\n",
        "c) Times em ordem alfabética.\n",
        "\n",
        "d) Em que posição está o time da São Paulo.\n",
        "'''\n",
        "\n",
        "times = (\"Flamengo\",\"Atlético Mineiro\",\"Fluminense\",\"Palmeiras\",\n",
        "    \"Fortaleza\",\"Corinthians\",\"Atlético Paranaense\",\"Internacional\",\n",
        "    \"Cuiabá\",\"Bragantino\",\"São Paulo\",\"Juventude\",\"Sport\",\n",
        "    \"Bahia\",\"Santos\",\"Atlético Goianiense\",\"América Mineiro\",\"Chapecoense\",\n",
        "    \"Grêmio\",\"Ceará\")\n",
        "print(f\"Lista de times: {times}\")\n",
        "print(\"-=\"*20)\n",
        "print(f\"Os cinco primeiros times são {times[0:5]}\")\n",
        "print(\"-=\"*20)\n",
        "print(f\"Os quatro último colocados são: {times[-4:]}\")\n",
        "print(\"-=\"*20)\n",
        "print(f\"Times em ordem alfabética: {sorted(times)}\")\n",
        "print(\"-=\"*20)\n",
        "print(f\"O São Paulo está na posição: {times.index('São Paulo')+1}\") # Foi necessário colocar aspas diferente para funcionar o código,verificar outra possibilidade no ChatGPT\n"
      ],
      "metadata": {
        "id": "kpaSLcIX4N_h"
      },
      "execution_count": null,
      "outputs": []
    },
    {
      "cell_type": "markdown",
      "source": [
        "Exercício 74 – Maior e menor valores em Tupla"
      ],
      "metadata": {
        "id": "CeVZ21Tp1Ylm"
      }
    },
    {
      "cell_type": "code",
      "source": [
        "'''Exercício Python 074: Crie um programa que vai gerar cinco números aleatórios e colocar em uma tupla. Depois disso,\n",
        "mostre a listagem de números gerados e também indique o menor e o maior valor que estão na tupla.'''\n",
        "\n",
        "import random\n",
        "\n",
        "numeros_aleatorios = tuple(random.randint(1, 100) for i in range(5)) # Gerar cinco números aleatórios\n",
        "\n",
        "print(numeros_aleatorios)\n",
        "ordem = (sorted(numeros_aleatorios))# Colocando os números em ordem\n",
        "print(f\"O maior número da TUPLA é: {ordem[-1]}\")# Pegando a maior posição\n",
        "print(f\"O menor valor da TUPLA é: {ordem[0]}\")#Pegando a menor posição\n",
        "print(f\"O maior número da TUPLA é: {max(numeros_aleatorios)}\")# Pegando a maior posição, função MAX\n",
        "print(f\"O menor valor da TUPLA é: {min(numeros_aleatorios)}\")#Pegando a menor posição, função MIN\n",
        "\n"
      ],
      "metadata": {
        "id": "5-Xz8BXh1ZQF"
      },
      "execution_count": null,
      "outputs": []
    },
    {
      "cell_type": "markdown",
      "source": [
        "Exercício 75 – Análise de dados em uma Tupla"
      ],
      "metadata": {
        "id": "HAxTbyia1TkS"
      }
    },
    {
      "cell_type": "code",
      "source": [
        "'''Exercício Python 075: Desenvolva um programa que leia quatro valores pelo teclado e guarde-os em uma tupla. No final, mostre:\n",
        "\n",
        "A) Quantas vezes apareceu o valor 9.\n",
        "\n",
        "B) Em que posição foi digitado o primeiro valor 3.\n",
        "\n",
        "C) Quais foram os números pares.'''\n",
        "\n",
        "\n",
        "# Recebendo a entrada do usuário para quatro números\n",
        "numero1 = int(input(\"Digite o primeiro número: \"))\n",
        "numero2 = int(input(\"Digite o segundo número: \"))\n",
        "numero3 = int(input(\"Digite o terceiro número: \"))\n",
        "numero4 = int(input(\"Digite o quarto número: \"))\n",
        "\n",
        "# Criando uma tupla com os números inseridos\n",
        "tupla_numeros = (numero1, numero2, numero3, numero4)\n",
        "\n",
        "# Imprimindo a tupla\n",
        "print(\"A tupla de números inseridos é:\", tupla_numeros)\n",
        "\n",
        "print(f\"\\nO número 3 está na posição: {tupla_numeros.index(3)+1}\") # busca a posição do número digitado\n",
        "print(f\"O número 9 apareceu {tupla_numeros.count(9)} vezes na Tupla\") # quantas vezes o número apareceu na Tupla\n",
        "pares = tuple(num for num in tupla_numeros if num % 2 == 0) # Criando uma nova variavel, interando a tupla e verificando os números pares\n",
        "print(f\"Os números pares digitados são: {pares}\")\n"
      ],
      "metadata": {
        "id": "wLpz8qiv1UZR",
        "colab": {
          "base_uri": "https://localhost:8080/"
        },
        "outputId": "a33e1c11-d3dc-47e2-ce7c-48a8cec23d7f"
      },
      "execution_count": null,
      "outputs": [
        {
          "output_type": "stream",
          "name": "stdout",
          "text": [
            "Digite o primeiro número: 2\n",
            "Digite o segundo número: 3\n",
            "Digite o terceiro número: 4\n",
            "Digite o quarto número: 5\n",
            "A tupla de números inseridos é: (2, 3, 4, 5)\n",
            "\n",
            "O número 3 está na posição: 2\n",
            "O número 9 apareceu 0 vezes na Tupla\n",
            "Os números pares digitados são: (2, 4)\n"
          ]
        }
      ]
    },
    {
      "cell_type": "markdown",
      "source": [
        "Exercício 76 – Lista de Preços com Tupla"
      ],
      "metadata": {
        "id": "EWiCpD62ck31"
      }
    },
    {
      "cell_type": "code",
      "source": [
        "'''Exercício Python 076: Crie um programa que tenha uma tupla única com nomes de\n",
        "produtos e seus respectivos preços, na sequência. No final,\n",
        "mostre uma listagem de preços, organizando os dados em forma tabular.'''\n",
        "\n",
        "print(\"-\"*30)\n",
        "print(\"      Listagem de preços\")\n",
        "print(\"-\"*30)\n",
        "\n",
        "Produto_precos = ( \"Lapis\", 1.50,\n",
        "    \"Borracha\", 0.80,\n",
        "    \"Apontador\", 1.20,\n",
        "    \"Caderno\", 5.00,\n",
        "    \"Estojo\", 3.50,\n",
        "    \"Mochila\", 25.00)\n",
        "\n",
        "for i in Produto_precos:\n",
        "  print(i)\n",
        "\n",
        "print(\"-\"*30)"
      ],
      "metadata": {
        "colab": {
          "base_uri": "https://localhost:8080/"
        },
        "id": "cHNzpvQ2cm42",
        "outputId": "21326899-4101-4db5-ba94-3e7ccdf52583"
      },
      "execution_count": null,
      "outputs": [
        {
          "output_type": "stream",
          "name": "stdout",
          "text": [
            "------------------------------\n",
            "      Listagem de preços\n",
            "------------------------------\n",
            "Lapis\n",
            "1.5\n",
            "Borracha\n",
            "0.8\n",
            "Apontador\n",
            "1.2\n",
            "Caderno\n",
            "5.0\n",
            "Estojo\n",
            "3.5\n",
            "Mochila\n",
            "25.0\n",
            "------------------------------\n"
          ]
        }
      ]
    }
  ]
}